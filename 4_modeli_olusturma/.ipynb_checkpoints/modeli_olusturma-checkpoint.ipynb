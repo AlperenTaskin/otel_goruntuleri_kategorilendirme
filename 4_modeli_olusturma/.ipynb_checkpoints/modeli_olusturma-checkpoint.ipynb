{
 "cells": [
  {
   "cell_type": "code",
   "execution_count": 1,
   "metadata": {
    "colab": {
     "base_uri": "https://localhost:8080/",
     "height": 122
    },
    "colab_type": "code",
    "id": "mgrRqI5DSnj7",
    "outputId": "8fa8d7e6-fa2d-4437-8a76-c85b6c83f696"
   },
   "outputs": [
    {
     "name": "stdout",
     "output_type": "stream",
     "text": [
      "Go to this URL in a browser: https://accounts.google.com/o/oauth2/auth?client_id=947318989803-6bn6qk8qdgf4n4g3pfee6491hc0brc4i.apps.googleusercontent.com&redirect_uri=urn%3Aietf%3Awg%3Aoauth%3A2.0%3Aoob&scope=email%20https%3A%2F%2Fwww.googleapis.com%2Fauth%2Fdocs.test%20https%3A%2F%2Fwww.googleapis.com%2Fauth%2Fdrive%20https%3A%2F%2Fwww.googleapis.com%2Fauth%2Fdrive.photos.readonly%20https%3A%2F%2Fwww.googleapis.com%2Fauth%2Fpeopleapi.readonly&response_type=code\n",
      "\n",
      "Enter your authorization code:\n",
      "··········\n",
      "Mounted at /content/drive/\n"
     ]
    }
   ],
   "source": [
    "from google.colab import drive\n",
    "drive.mount('/content/drive/')"
   ]
  },
  {
   "cell_type": "code",
   "execution_count": 0,
   "metadata": {
    "colab": {},
    "colab_type": "code",
    "id": "ovOdRPqkSwE9"
   },
   "outputs": [],
   "source": [
    "import os \n",
    "os.chdir('./drive/My Drive/Tez_Son_Hali')"
   ]
  },
  {
   "cell_type": "code",
   "execution_count": 3,
   "metadata": {
    "colab": {
     "base_uri": "https://localhost:8080/",
     "height": 51
    },
    "colab_type": "code",
    "id": "yCQn7ryYSwqu",
    "outputId": "38f63a7b-3847-4e93-ef35-a5d2c95ef941"
   },
   "outputs": [
    {
     "name": "stdout",
     "output_type": "stream",
     "text": [
      "etiketler.csv\t     modeli_olusturma.ipynb  resimler.parq\n",
      "modeli_deneme.ipynb  resimler3.parq\t     Test_Verileri\n"
     ]
    }
   ],
   "source": [
    "!ls"
   ]
  },
  {
   "cell_type": "code",
   "execution_count": 0,
   "metadata": {
    "colab": {},
    "colab_type": "code",
    "id": "2Mc9wIzeo2Zp"
   },
   "outputs": [],
   "source": [
    "import numpy as np\n",
    "import pandas as pd\n",
    "import matplotlib.pyplot as plt"
   ]
  },
  {
   "cell_type": "markdown",
   "metadata": {
    "colab_type": "text",
    "id": "OVNV5vCdpExM"
   },
   "source": [
    "## Verileri Okuyoruz"
   ]
  },
  {
   "cell_type": "code",
   "execution_count": 5,
   "metadata": {
    "colab": {
     "base_uri": "https://localhost:8080/",
     "height": 408
    },
    "colab_type": "code",
    "id": "Btd6PpHZpqU3",
    "outputId": "dec7a9df-159a-4fb3-d99a-61d4c34517b2"
   },
   "outputs": [
    {
     "name": "stdout",
     "output_type": "stream",
     "text": [
      "Collecting fastparquet\n",
      "\u001b[?25l  Downloading https://files.pythonhosted.org/packages/73/2e/4407564c9e6a32a6c71be1506d06557c0f909c633fd2f96c97001fce1a8f/fastparquet-0.2.1.tar.gz (147kB)\n",
      "\u001b[K    100% |████████████████████████████████| 153kB 6.7MB/s \n",
      "\u001b[?25hRequirement already satisfied: pandas>=0.19 in /usr/local/lib/python3.6/dist-packages (from fastparquet) (0.22.0)\n",
      "Requirement already satisfied: numba>=0.28 in /usr/local/lib/python3.6/dist-packages (from fastparquet) (0.40.1)\n",
      "Requirement already satisfied: numpy>=1.11 in /usr/local/lib/python3.6/dist-packages (from fastparquet) (1.14.6)\n",
      "Collecting thrift>=0.11.0 (from fastparquet)\n",
      "\u001b[?25l  Downloading https://files.pythonhosted.org/packages/c6/b4/510617906f8e0c5660e7d96fbc5585113f83ad547a3989b80297ac72a74c/thrift-0.11.0.tar.gz (52kB)\n",
      "\u001b[K    100% |████████████████████████████████| 61kB 25.3MB/s \n",
      "\u001b[?25hRequirement already satisfied: six in /usr/local/lib/python3.6/dist-packages (from fastparquet) (1.11.0)\n",
      "Collecting pytest-runner (from fastparquet)\n",
      "  Downloading https://files.pythonhosted.org/packages/72/a4/d7a5738a3096f22a98bec1609e237b250ebff04e5ea2930305d485337263/pytest_runner-4.2-py2.py3-none-any.whl\n",
      "Requirement already satisfied: python-dateutil>=2 in /usr/local/lib/python3.6/dist-packages (from pandas>=0.19->fastparquet) (2.5.3)\n",
      "Requirement already satisfied: pytz>=2011k in /usr/local/lib/python3.6/dist-packages (from pandas>=0.19->fastparquet) (2018.9)\n",
      "Requirement already satisfied: llvmlite>=0.25.0dev0 in /usr/local/lib/python3.6/dist-packages (from numba>=0.28->fastparquet) (0.27.0)\n",
      "Building wheels for collected packages: fastparquet, thrift\n",
      "  Running setup.py bdist_wheel for fastparquet ... \u001b[?25l-\b \b\\\b \b|\b \b/\b \b-\b \b\\\b \bdone\n",
      "\u001b[?25h  Stored in directory: /root/.cache/pip/wheels/f9/3e/23/6aab966b822a83be5f85436cc1b38555d98e0b022bd4634c80\n",
      "  Running setup.py bdist_wheel for thrift ... \u001b[?25l-\b \b\\\b \b|\b \b/\b \b-\b \b\\\b \bdone\n",
      "\u001b[?25h  Stored in directory: /root/.cache/pip/wheels/be/36/81/0f93ba89a1cb7887c91937948519840a72c0ffdd57cac0ae8f\n",
      "Successfully built fastparquet thrift\n",
      "Installing collected packages: thrift, pytest-runner, fastparquet\n",
      "Successfully installed fastparquet-0.2.1 pytest-runner-4.2 thrift-0.11.0\n"
     ]
    }
   ],
   "source": [
    "!pip install fastparquet"
   ]
  },
  {
   "cell_type": "code",
   "execution_count": 0,
   "metadata": {
    "colab": {},
    "colab_type": "code",
    "id": "4WWCCNmnpQOg"
   },
   "outputs": [],
   "source": [
    "X = pd.read_parquet('resimler3.parq')"
   ]
  },
  {
   "cell_type": "code",
   "execution_count": 0,
   "metadata": {
    "colab": {},
    "colab_type": "code",
    "id": "i2ktN7Fopc5e"
   },
   "outputs": [],
   "source": [
    "y = pd.read_csv('etiketler.csv')"
   ]
  },
  {
   "cell_type": "code",
   "execution_count": 8,
   "metadata": {
    "colab": {
     "base_uri": "https://localhost:8080/",
     "height": 233
    },
    "colab_type": "code",
    "id": "aXblAgU8p4kV",
    "outputId": "bf0a5716-8370-466e-8744-f10a691c12f0"
   },
   "outputs": [
    {
     "data": {
      "text/html": [
       "<div>\n",
       "<style scoped>\n",
       "    .dataframe tbody tr th:only-of-type {\n",
       "        vertical-align: middle;\n",
       "    }\n",
       "\n",
       "    .dataframe tbody tr th {\n",
       "        vertical-align: top;\n",
       "    }\n",
       "\n",
       "    .dataframe thead th {\n",
       "        text-align: right;\n",
       "    }\n",
       "</style>\n",
       "<table border=\"1\" class=\"dataframe\">\n",
       "  <thead>\n",
       "    <tr style=\"text-align: right;\">\n",
       "      <th></th>\n",
       "      <th>0</th>\n",
       "      <th>1</th>\n",
       "      <th>2</th>\n",
       "      <th>3</th>\n",
       "      <th>4</th>\n",
       "      <th>5</th>\n",
       "      <th>6</th>\n",
       "      <th>7</th>\n",
       "      <th>8</th>\n",
       "      <th>9</th>\n",
       "      <th>...</th>\n",
       "      <th>150518</th>\n",
       "      <th>150519</th>\n",
       "      <th>150520</th>\n",
       "      <th>150521</th>\n",
       "      <th>150522</th>\n",
       "      <th>150523</th>\n",
       "      <th>150524</th>\n",
       "      <th>150525</th>\n",
       "      <th>150526</th>\n",
       "      <th>150527</th>\n",
       "    </tr>\n",
       "  </thead>\n",
       "  <tbody>\n",
       "    <tr>\n",
       "      <th>0</th>\n",
       "      <td>255.0</td>\n",
       "      <td>239.0</td>\n",
       "      <td>250.0</td>\n",
       "      <td>255.0</td>\n",
       "      <td>240.0</td>\n",
       "      <td>251.0</td>\n",
       "      <td>255.0</td>\n",
       "      <td>242.0</td>\n",
       "      <td>252.0</td>\n",
       "      <td>255.0</td>\n",
       "      <td>...</td>\n",
       "      <td>207.0</td>\n",
       "      <td>247.0</td>\n",
       "      <td>205.0</td>\n",
       "      <td>207.0</td>\n",
       "      <td>244.0</td>\n",
       "      <td>202.0</td>\n",
       "      <td>204.0</td>\n",
       "      <td>244.0</td>\n",
       "      <td>202.0</td>\n",
       "      <td>204.0</td>\n",
       "    </tr>\n",
       "    <tr>\n",
       "      <th>1</th>\n",
       "      <td>155.0</td>\n",
       "      <td>103.0</td>\n",
       "      <td>1.0</td>\n",
       "      <td>155.0</td>\n",
       "      <td>103.0</td>\n",
       "      <td>1.0</td>\n",
       "      <td>155.0</td>\n",
       "      <td>103.0</td>\n",
       "      <td>1.0</td>\n",
       "      <td>155.0</td>\n",
       "      <td>...</td>\n",
       "      <td>71.0</td>\n",
       "      <td>90.0</td>\n",
       "      <td>88.0</td>\n",
       "      <td>73.0</td>\n",
       "      <td>94.0</td>\n",
       "      <td>92.0</td>\n",
       "      <td>77.0</td>\n",
       "      <td>94.0</td>\n",
       "      <td>92.0</td>\n",
       "      <td>77.0</td>\n",
       "    </tr>\n",
       "    <tr>\n",
       "      <th>2</th>\n",
       "      <td>197.0</td>\n",
       "      <td>163.0</td>\n",
       "      <td>118.0</td>\n",
       "      <td>194.0</td>\n",
       "      <td>160.0</td>\n",
       "      <td>115.0</td>\n",
       "      <td>189.0</td>\n",
       "      <td>155.0</td>\n",
       "      <td>109.0</td>\n",
       "      <td>194.0</td>\n",
       "      <td>...</td>\n",
       "      <td>4.0</td>\n",
       "      <td>54.0</td>\n",
       "      <td>22.0</td>\n",
       "      <td>7.0</td>\n",
       "      <td>56.0</td>\n",
       "      <td>25.0</td>\n",
       "      <td>7.0</td>\n",
       "      <td>56.0</td>\n",
       "      <td>25.0</td>\n",
       "      <td>4.0</td>\n",
       "    </tr>\n",
       "    <tr>\n",
       "      <th>3</th>\n",
       "      <td>53.0</td>\n",
       "      <td>45.0</td>\n",
       "      <td>32.0</td>\n",
       "      <td>51.0</td>\n",
       "      <td>45.0</td>\n",
       "      <td>31.0</td>\n",
       "      <td>55.0</td>\n",
       "      <td>51.0</td>\n",
       "      <td>39.0</td>\n",
       "      <td>65.0</td>\n",
       "      <td>...</td>\n",
       "      <td>241.0</td>\n",
       "      <td>223.0</td>\n",
       "      <td>229.0</td>\n",
       "      <td>241.0</td>\n",
       "      <td>222.0</td>\n",
       "      <td>228.0</td>\n",
       "      <td>240.0</td>\n",
       "      <td>223.0</td>\n",
       "      <td>229.0</td>\n",
       "      <td>241.0</td>\n",
       "    </tr>\n",
       "    <tr>\n",
       "      <th>4</th>\n",
       "      <td>143.0</td>\n",
       "      <td>158.0</td>\n",
       "      <td>213.0</td>\n",
       "      <td>143.0</td>\n",
       "      <td>158.0</td>\n",
       "      <td>213.0</td>\n",
       "      <td>137.0</td>\n",
       "      <td>152.0</td>\n",
       "      <td>207.0</td>\n",
       "      <td>142.0</td>\n",
       "      <td>...</td>\n",
       "      <td>3.0</td>\n",
       "      <td>73.0</td>\n",
       "      <td>69.0</td>\n",
       "      <td>21.0</td>\n",
       "      <td>52.0</td>\n",
       "      <td>47.0</td>\n",
       "      <td>0.0</td>\n",
       "      <td>74.0</td>\n",
       "      <td>68.0</td>\n",
       "      <td>10.0</td>\n",
       "    </tr>\n",
       "  </tbody>\n",
       "</table>\n",
       "<p>5 rows × 150528 columns</p>\n",
       "</div>"
      ],
      "text/plain": [
       "       0      1      2      3      4      5      6      7      8      9  \\\n",
       "0  255.0  239.0  250.0  255.0  240.0  251.0  255.0  242.0  252.0  255.0   \n",
       "1  155.0  103.0    1.0  155.0  103.0    1.0  155.0  103.0    1.0  155.0   \n",
       "2  197.0  163.0  118.0  194.0  160.0  115.0  189.0  155.0  109.0  194.0   \n",
       "3   53.0   45.0   32.0   51.0   45.0   31.0   55.0   51.0   39.0   65.0   \n",
       "4  143.0  158.0  213.0  143.0  158.0  213.0  137.0  152.0  207.0  142.0   \n",
       "\n",
       "    ...    150518  150519  150520  150521  150522  150523  150524  150525  \\\n",
       "0   ...     207.0   247.0   205.0   207.0   244.0   202.0   204.0   244.0   \n",
       "1   ...      71.0    90.0    88.0    73.0    94.0    92.0    77.0    94.0   \n",
       "2   ...       4.0    54.0    22.0     7.0    56.0    25.0     7.0    56.0   \n",
       "3   ...     241.0   223.0   229.0   241.0   222.0   228.0   240.0   223.0   \n",
       "4   ...       3.0    73.0    69.0    21.0    52.0    47.0     0.0    74.0   \n",
       "\n",
       "   150526  150527  \n",
       "0   202.0   204.0  \n",
       "1    92.0    77.0  \n",
       "2    25.0     4.0  \n",
       "3   229.0   241.0  \n",
       "4    68.0    10.0  \n",
       "\n",
       "[5 rows x 150528 columns]"
      ]
     },
     "execution_count": 8,
     "metadata": {
      "tags": []
     },
     "output_type": "execute_result"
    }
   ],
   "source": [
    "X.head()"
   ]
  },
  {
   "cell_type": "code",
   "execution_count": 9,
   "metadata": {
    "colab": {
     "base_uri": "https://localhost:8080/",
     "height": 204
    },
    "colab_type": "code",
    "id": "1f8mHdTAp7aY",
    "outputId": "b9ea9033-9530-406e-b59b-53df14c7e3af"
   },
   "outputs": [
    {
     "data": {
      "text/html": [
       "<div>\n",
       "<style scoped>\n",
       "    .dataframe tbody tr th:only-of-type {\n",
       "        vertical-align: middle;\n",
       "    }\n",
       "\n",
       "    .dataframe tbody tr th {\n",
       "        vertical-align: top;\n",
       "    }\n",
       "\n",
       "    .dataframe thead th {\n",
       "        text-align: right;\n",
       "    }\n",
       "</style>\n",
       "<table border=\"1\" class=\"dataframe\">\n",
       "  <thead>\n",
       "    <tr style=\"text-align: right;\">\n",
       "      <th></th>\n",
       "      <th>Unnamed: 0</th>\n",
       "      <th>0</th>\n",
       "    </tr>\n",
       "  </thead>\n",
       "  <tbody>\n",
       "    <tr>\n",
       "      <th>0</th>\n",
       "      <td>0</td>\n",
       "      <td>0</td>\n",
       "    </tr>\n",
       "    <tr>\n",
       "      <th>1</th>\n",
       "      <td>1</td>\n",
       "      <td>0</td>\n",
       "    </tr>\n",
       "    <tr>\n",
       "      <th>2</th>\n",
       "      <td>2</td>\n",
       "      <td>0</td>\n",
       "    </tr>\n",
       "    <tr>\n",
       "      <th>3</th>\n",
       "      <td>3</td>\n",
       "      <td>0</td>\n",
       "    </tr>\n",
       "    <tr>\n",
       "      <th>4</th>\n",
       "      <td>4</td>\n",
       "      <td>0</td>\n",
       "    </tr>\n",
       "  </tbody>\n",
       "</table>\n",
       "</div>"
      ],
      "text/plain": [
       "   Unnamed: 0  0\n",
       "0           0  0\n",
       "1           1  0\n",
       "2           2  0\n",
       "3           3  0\n",
       "4           4  0"
      ]
     },
     "execution_count": 9,
     "metadata": {
      "tags": []
     },
     "output_type": "execute_result"
    }
   ],
   "source": [
    "y.head()"
   ]
  },
  {
   "cell_type": "code",
   "execution_count": 0,
   "metadata": {
    "colab": {},
    "colab_type": "code",
    "id": "qnVb-gOZtuOy"
   },
   "outputs": [],
   "source": [
    "y = y.drop(columns=['Unnamed: 0'])"
   ]
  },
  {
   "cell_type": "code",
   "execution_count": 21,
   "metadata": {
    "colab": {
     "base_uri": "https://localhost:8080/",
     "height": 204
    },
    "colab_type": "code",
    "id": "DW8scSyst-fr",
    "outputId": "70aefaaf-16dd-4be4-99e3-d618f4fd8e86"
   },
   "outputs": [
    {
     "data": {
      "text/html": [
       "<div>\n",
       "<style scoped>\n",
       "    .dataframe tbody tr th:only-of-type {\n",
       "        vertical-align: middle;\n",
       "    }\n",
       "\n",
       "    .dataframe tbody tr th {\n",
       "        vertical-align: top;\n",
       "    }\n",
       "\n",
       "    .dataframe thead th {\n",
       "        text-align: right;\n",
       "    }\n",
       "</style>\n",
       "<table border=\"1\" class=\"dataframe\">\n",
       "  <thead>\n",
       "    <tr style=\"text-align: right;\">\n",
       "      <th></th>\n",
       "      <th>0</th>\n",
       "    </tr>\n",
       "  </thead>\n",
       "  <tbody>\n",
       "    <tr>\n",
       "      <th>0</th>\n",
       "      <td>0</td>\n",
       "    </tr>\n",
       "    <tr>\n",
       "      <th>1</th>\n",
       "      <td>0</td>\n",
       "    </tr>\n",
       "    <tr>\n",
       "      <th>2</th>\n",
       "      <td>0</td>\n",
       "    </tr>\n",
       "    <tr>\n",
       "      <th>3</th>\n",
       "      <td>0</td>\n",
       "    </tr>\n",
       "    <tr>\n",
       "      <th>4</th>\n",
       "      <td>0</td>\n",
       "    </tr>\n",
       "  </tbody>\n",
       "</table>\n",
       "</div>"
      ],
      "text/plain": [
       "   0\n",
       "0  0\n",
       "1  0\n",
       "2  0\n",
       "3  0\n",
       "4  0"
      ]
     },
     "execution_count": 21,
     "metadata": {
      "tags": []
     },
     "output_type": "execute_result"
    }
   ],
   "source": [
    "y.head()"
   ]
  },
  {
   "cell_type": "code",
   "execution_count": 12,
   "metadata": {
    "colab": {
     "base_uri": "https://localhost:8080/",
     "height": 102
    },
    "colab_type": "code",
    "id": "iaehlzuAqQ48",
    "outputId": "405ffa38-44d8-41e6-d9b4-0dcb1c3b6524"
   },
   "outputs": [
    {
     "name": "stdout",
     "output_type": "stream",
     "text": [
      "<class 'pandas.core.frame.DataFrame'>\n",
      "RangeIndex: 4691 entries, 0 to 4690\n",
      "Columns: 150528 entries, 0 to 150527\n",
      "dtypes: float32(150528)\n",
      "memory usage: 2.6 GB\n"
     ]
    }
   ],
   "source": [
    "X.info()"
   ]
  },
  {
   "cell_type": "code",
   "execution_count": 13,
   "metadata": {
    "colab": {
     "base_uri": "https://localhost:8080/",
     "height": 119
    },
    "colab_type": "code",
    "id": "dYqwOiAdq4JI",
    "outputId": "4571cfba-2561-4cb2-f500-5656e00a01bf"
   },
   "outputs": [
    {
     "name": "stdout",
     "output_type": "stream",
     "text": [
      "<class 'pandas.core.frame.DataFrame'>\n",
      "RangeIndex: 4691 entries, 0 to 4690\n",
      "Data columns (total 1 columns):\n",
      "0    4691 non-null int64\n",
      "dtypes: int64(1)\n",
      "memory usage: 36.7 KB\n"
     ]
    }
   ],
   "source": [
    "y.info()"
   ]
  },
  {
   "cell_type": "markdown",
   "metadata": {
    "colab_type": "text",
    "id": "1iBb6nIFsC7t"
   },
   "source": [
    "## Normalizasyon"
   ]
  },
  {
   "cell_type": "code",
   "execution_count": 0,
   "metadata": {
    "colab": {},
    "colab_type": "code",
    "id": "RRvu0FshsIx5"
   },
   "outputs": [],
   "source": [
    "X = X / 255.0"
   ]
  },
  {
   "cell_type": "code",
   "execution_count": 15,
   "metadata": {
    "colab": {
     "base_uri": "https://localhost:8080/",
     "height": 233
    },
    "colab_type": "code",
    "id": "bwIaX0zwsJvJ",
    "outputId": "ecdb6664-1983-4b01-edc7-7e360af90a91"
   },
   "outputs": [
    {
     "data": {
      "text/html": [
       "<div>\n",
       "<style scoped>\n",
       "    .dataframe tbody tr th:only-of-type {\n",
       "        vertical-align: middle;\n",
       "    }\n",
       "\n",
       "    .dataframe tbody tr th {\n",
       "        vertical-align: top;\n",
       "    }\n",
       "\n",
       "    .dataframe thead th {\n",
       "        text-align: right;\n",
       "    }\n",
       "</style>\n",
       "<table border=\"1\" class=\"dataframe\">\n",
       "  <thead>\n",
       "    <tr style=\"text-align: right;\">\n",
       "      <th></th>\n",
       "      <th>0</th>\n",
       "      <th>1</th>\n",
       "      <th>2</th>\n",
       "      <th>3</th>\n",
       "      <th>4</th>\n",
       "      <th>5</th>\n",
       "      <th>6</th>\n",
       "      <th>7</th>\n",
       "      <th>8</th>\n",
       "      <th>9</th>\n",
       "      <th>...</th>\n",
       "      <th>150518</th>\n",
       "      <th>150519</th>\n",
       "      <th>150520</th>\n",
       "      <th>150521</th>\n",
       "      <th>150522</th>\n",
       "      <th>150523</th>\n",
       "      <th>150524</th>\n",
       "      <th>150525</th>\n",
       "      <th>150526</th>\n",
       "      <th>150527</th>\n",
       "    </tr>\n",
       "  </thead>\n",
       "  <tbody>\n",
       "    <tr>\n",
       "      <th>0</th>\n",
       "      <td>1.000000</td>\n",
       "      <td>0.937255</td>\n",
       "      <td>0.980392</td>\n",
       "      <td>1.000000</td>\n",
       "      <td>0.941176</td>\n",
       "      <td>0.984314</td>\n",
       "      <td>1.000000</td>\n",
       "      <td>0.949020</td>\n",
       "      <td>0.988235</td>\n",
       "      <td>1.000000</td>\n",
       "      <td>...</td>\n",
       "      <td>0.811765</td>\n",
       "      <td>0.968627</td>\n",
       "      <td>0.803922</td>\n",
       "      <td>0.811765</td>\n",
       "      <td>0.956863</td>\n",
       "      <td>0.792157</td>\n",
       "      <td>0.800000</td>\n",
       "      <td>0.956863</td>\n",
       "      <td>0.792157</td>\n",
       "      <td>0.800000</td>\n",
       "    </tr>\n",
       "    <tr>\n",
       "      <th>1</th>\n",
       "      <td>0.607843</td>\n",
       "      <td>0.403922</td>\n",
       "      <td>0.003922</td>\n",
       "      <td>0.607843</td>\n",
       "      <td>0.403922</td>\n",
       "      <td>0.003922</td>\n",
       "      <td>0.607843</td>\n",
       "      <td>0.403922</td>\n",
       "      <td>0.003922</td>\n",
       "      <td>0.607843</td>\n",
       "      <td>...</td>\n",
       "      <td>0.278431</td>\n",
       "      <td>0.352941</td>\n",
       "      <td>0.345098</td>\n",
       "      <td>0.286275</td>\n",
       "      <td>0.368627</td>\n",
       "      <td>0.360784</td>\n",
       "      <td>0.301961</td>\n",
       "      <td>0.368627</td>\n",
       "      <td>0.360784</td>\n",
       "      <td>0.301961</td>\n",
       "    </tr>\n",
       "    <tr>\n",
       "      <th>2</th>\n",
       "      <td>0.772549</td>\n",
       "      <td>0.639216</td>\n",
       "      <td>0.462745</td>\n",
       "      <td>0.760784</td>\n",
       "      <td>0.627451</td>\n",
       "      <td>0.450980</td>\n",
       "      <td>0.741176</td>\n",
       "      <td>0.607843</td>\n",
       "      <td>0.427451</td>\n",
       "      <td>0.760784</td>\n",
       "      <td>...</td>\n",
       "      <td>0.015686</td>\n",
       "      <td>0.211765</td>\n",
       "      <td>0.086275</td>\n",
       "      <td>0.027451</td>\n",
       "      <td>0.219608</td>\n",
       "      <td>0.098039</td>\n",
       "      <td>0.027451</td>\n",
       "      <td>0.219608</td>\n",
       "      <td>0.098039</td>\n",
       "      <td>0.015686</td>\n",
       "    </tr>\n",
       "    <tr>\n",
       "      <th>3</th>\n",
       "      <td>0.207843</td>\n",
       "      <td>0.176471</td>\n",
       "      <td>0.125490</td>\n",
       "      <td>0.200000</td>\n",
       "      <td>0.176471</td>\n",
       "      <td>0.121569</td>\n",
       "      <td>0.215686</td>\n",
       "      <td>0.200000</td>\n",
       "      <td>0.152941</td>\n",
       "      <td>0.254902</td>\n",
       "      <td>...</td>\n",
       "      <td>0.945098</td>\n",
       "      <td>0.874510</td>\n",
       "      <td>0.898039</td>\n",
       "      <td>0.945098</td>\n",
       "      <td>0.870588</td>\n",
       "      <td>0.894118</td>\n",
       "      <td>0.941176</td>\n",
       "      <td>0.874510</td>\n",
       "      <td>0.898039</td>\n",
       "      <td>0.945098</td>\n",
       "    </tr>\n",
       "    <tr>\n",
       "      <th>4</th>\n",
       "      <td>0.560784</td>\n",
       "      <td>0.619608</td>\n",
       "      <td>0.835294</td>\n",
       "      <td>0.560784</td>\n",
       "      <td>0.619608</td>\n",
       "      <td>0.835294</td>\n",
       "      <td>0.537255</td>\n",
       "      <td>0.596078</td>\n",
       "      <td>0.811765</td>\n",
       "      <td>0.556863</td>\n",
       "      <td>...</td>\n",
       "      <td>0.011765</td>\n",
       "      <td>0.286275</td>\n",
       "      <td>0.270588</td>\n",
       "      <td>0.082353</td>\n",
       "      <td>0.203922</td>\n",
       "      <td>0.184314</td>\n",
       "      <td>0.000000</td>\n",
       "      <td>0.290196</td>\n",
       "      <td>0.266667</td>\n",
       "      <td>0.039216</td>\n",
       "    </tr>\n",
       "  </tbody>\n",
       "</table>\n",
       "<p>5 rows × 150528 columns</p>\n",
       "</div>"
      ],
      "text/plain": [
       "          0         1         2         3         4         5         6  \\\n",
       "0  1.000000  0.937255  0.980392  1.000000  0.941176  0.984314  1.000000   \n",
       "1  0.607843  0.403922  0.003922  0.607843  0.403922  0.003922  0.607843   \n",
       "2  0.772549  0.639216  0.462745  0.760784  0.627451  0.450980  0.741176   \n",
       "3  0.207843  0.176471  0.125490  0.200000  0.176471  0.121569  0.215686   \n",
       "4  0.560784  0.619608  0.835294  0.560784  0.619608  0.835294  0.537255   \n",
       "\n",
       "          7         8         9    ...       150518    150519    150520  \\\n",
       "0  0.949020  0.988235  1.000000    ...     0.811765  0.968627  0.803922   \n",
       "1  0.403922  0.003922  0.607843    ...     0.278431  0.352941  0.345098   \n",
       "2  0.607843  0.427451  0.760784    ...     0.015686  0.211765  0.086275   \n",
       "3  0.200000  0.152941  0.254902    ...     0.945098  0.874510  0.898039   \n",
       "4  0.596078  0.811765  0.556863    ...     0.011765  0.286275  0.270588   \n",
       "\n",
       "     150521    150522    150523    150524    150525    150526    150527  \n",
       "0  0.811765  0.956863  0.792157  0.800000  0.956863  0.792157  0.800000  \n",
       "1  0.286275  0.368627  0.360784  0.301961  0.368627  0.360784  0.301961  \n",
       "2  0.027451  0.219608  0.098039  0.027451  0.219608  0.098039  0.015686  \n",
       "3  0.945098  0.870588  0.894118  0.941176  0.874510  0.898039  0.945098  \n",
       "4  0.082353  0.203922  0.184314  0.000000  0.290196  0.266667  0.039216  \n",
       "\n",
       "[5 rows x 150528 columns]"
      ]
     },
     "execution_count": 15,
     "metadata": {
      "tags": []
     },
     "output_type": "execute_result"
    }
   ],
   "source": [
    "X.head()"
   ]
  },
  {
   "cell_type": "markdown",
   "metadata": {
    "colab_type": "text",
    "id": "4sD7EIEFsY_h"
   },
   "source": [
    "#Model"
   ]
  },
  {
   "cell_type": "code",
   "execution_count": 16,
   "metadata": {
    "colab": {
     "base_uri": "https://localhost:8080/",
     "height": 34
    },
    "colab_type": "code",
    "id": "-H42GWE1sLIP",
    "outputId": "521831e7-b11f-4c42-cde6-8ca87768de8a"
   },
   "outputs": [
    {
     "name": "stderr",
     "output_type": "stream",
     "text": [
      "Using TensorFlow backend.\n"
     ]
    }
   ],
   "source": [
    "from sklearn.metrics import confusion_matrix\n",
    "import itertools\n",
    "\n",
    "from keras.utils.np_utils import to_categorical # one-hot-encoding icin\n",
    "from keras.models import Sequential\n",
    "from keras.layers import Dense, Dropout, Flatten, Conv2D, MaxPool2D, GlobalAveragePooling2D\n",
    "from keras.optimizers import RMSprop\n",
    "from keras.callbacks import ReduceLROnPlateau\n",
    "\n",
    "# kutuphane guncellemeleriyle alakali uyarilari gormemek icin kullaniyoruz\n",
    "import warnings\n",
    "warnings.filterwarnings(\"ignore\")"
   ]
  },
  {
   "cell_type": "markdown",
   "metadata": {
    "colab_type": "text",
    "id": "zLJ4Z11bspWl"
   },
   "source": [
    "# One Hot Encoding"
   ]
  },
  {
   "cell_type": "code",
   "execution_count": 0,
   "metadata": {
    "colab": {},
    "colab_type": "code",
    "id": "Uoxb-Y6_srSg"
   },
   "outputs": [],
   "source": [
    "y = to_categorical(y, num_classes = 5)"
   ]
  },
  {
   "cell_type": "code",
   "execution_count": 23,
   "metadata": {
    "colab": {
     "base_uri": "https://localhost:8080/",
     "height": 136
    },
    "colab_type": "code",
    "id": "W7d51w2PszBU",
    "outputId": "5500c0bd-60bf-4984-9ad4-c9778836e1a0"
   },
   "outputs": [
    {
     "data": {
      "text/plain": [
       "array([[1., 0., 0., 0., 0.],\n",
       "       [1., 0., 0., 0., 0.],\n",
       "       [1., 0., 0., 0., 0.],\n",
       "       ...,\n",
       "       [0., 0., 0., 0., 1.],\n",
       "       [0., 0., 0., 0., 1.],\n",
       "       [0., 0., 0., 0., 1.]], dtype=float32)"
      ]
     },
     "execution_count": 23,
     "metadata": {
      "tags": []
     },
     "output_type": "execute_result"
    }
   ],
   "source": [
    "y"
   ]
  },
  {
   "cell_type": "markdown",
   "metadata": {
    "colab_type": "text",
    "id": "7na0utyZs4EJ"
   },
   "source": [
    "## Train Test Ayirma"
   ]
  },
  {
   "cell_type": "code",
   "execution_count": 0,
   "metadata": {
    "colab": {},
    "colab_type": "code",
    "id": "UnSuItEisz6D"
   },
   "outputs": [],
   "source": [
    "from sklearn.model_selection import train_test_split\n",
    "X_train, X_test, y_train, y_test = train_test_split(X,y, test_size = 0.3, random_state = 0)"
   ]
  },
  {
   "cell_type": "code",
   "execution_count": 0,
   "metadata": {
    "colab": {},
    "colab_type": "code",
    "id": "9KUf_Qkps87k"
   },
   "outputs": [],
   "source": [
    "# reshape metodunu kullanabilmemiz icin numpy array'ine ceviriyoruz\n",
    "X_train = np.array(X_train)\n",
    "X_test = np.array(X_test)\n",
    "\n",
    "# keras modeline 4 boyutlu matris kabul ediyor\n",
    "X_train = np.reshape(X_train,(-1,224,224,3))\n",
    "X_test = np.reshape(X_test,(-1,224,224,3))"
   ]
  },
  {
   "cell_type": "markdown",
   "metadata": {
    "colab_type": "text",
    "id": "foNJGOuVtgZx"
   },
   "source": [
    "## Modeli Olusturuyoruz"
   ]
  },
  {
   "cell_type": "code",
   "execution_count": 0,
   "metadata": {
    "colab": {},
    "colab_type": "code",
    "id": "u379xgu2tdKB"
   },
   "outputs": [],
   "source": [
    "import keras\n",
    "from keras.applications import VGG16\n",
    "from keras.models import Model\n",
    "from keras.optimizers import *\n",
    "#keras.backend.clear_session()"
   ]
  },
  {
   "cell_type": "code",
   "execution_count": 0,
   "metadata": {
    "colab": {},
    "colab_type": "code",
    "id": "nY_t_VZlzBbr"
   },
   "outputs": [],
   "source": [
    "temel_model = VGG16(weights='imagenet', include_top=False)"
   ]
  },
  {
   "cell_type": "code",
   "execution_count": 0,
   "metadata": {
    "colab": {},
    "colab_type": "code",
    "id": "tzVQPBtfzUeE"
   },
   "outputs": [],
   "source": [
    "cikti = temel_model.output\n",
    "cikti = GlobalAveragePooling2D()(cikti)"
   ]
  },
  {
   "cell_type": "code",
   "execution_count": 0,
   "metadata": {
    "colab": {},
    "colab_type": "code",
    "id": "ur697M1LzUU2"
   },
   "outputs": [],
   "source": [
    "cikti = Dropout(0.2)(cikti)\n",
    "cikti = Dense(1024, activation='relu')(cikti)\n",
    "\n",
    "cikti = Dropout(0.2)(cikti)\n",
    "cikti = Dense(512, activation='relu')(cikti)\n",
    "\n",
    "cikti = Dropout(0.5)(cikti)\n",
    "prediction = Dense(5, activation='softmax')(cikti)\n",
    "\n",
    "model = Model(inputs=temel_model.input, outputs=prediction)"
   ]
  },
  {
   "cell_type": "code",
   "execution_count": 0,
   "metadata": {
    "colab": {},
    "colab_type": "code",
    "id": "6qEijVtvzURy"
   },
   "outputs": [],
   "source": [
    "for katman in temel_model.layers[:-3]:\n",
    "  katman.trainable = False"
   ]
  },
  {
   "cell_type": "code",
   "execution_count": 0,
   "metadata": {
    "colab": {},
    "colab_type": "code",
    "id": "IYs12eQ-1-Wk"
   },
   "outputs": [],
   "source": [
    "model.compile(optimizer=Adam(lr=0.0005), loss='categorical_crossentropy', metrics=['accuracy'])"
   ]
  },
  {
   "cell_type": "code",
   "execution_count": 40,
   "metadata": {
    "colab": {
     "base_uri": "https://localhost:8080/",
     "height": 1020
    },
    "colab_type": "code",
    "id": "S4pPJI732UmH",
    "outputId": "5d58e6ed-6a3e-4882-a522-e7fe0c5a9c83"
   },
   "outputs": [
    {
     "name": "stdout",
     "output_type": "stream",
     "text": [
      "_________________________________________________________________\n",
      "Layer (type)                 Output Shape              Param #   \n",
      "=================================================================\n",
      "input_1 (InputLayer)         (None, None, None, 3)     0         \n",
      "_________________________________________________________________\n",
      "block1_conv1 (Conv2D)        (None, None, None, 64)    1792      \n",
      "_________________________________________________________________\n",
      "block1_conv2 (Conv2D)        (None, None, None, 64)    36928     \n",
      "_________________________________________________________________\n",
      "block1_pool (MaxPooling2D)   (None, None, None, 64)    0         \n",
      "_________________________________________________________________\n",
      "block2_conv1 (Conv2D)        (None, None, None, 128)   73856     \n",
      "_________________________________________________________________\n",
      "block2_conv2 (Conv2D)        (None, None, None, 128)   147584    \n",
      "_________________________________________________________________\n",
      "block2_pool (MaxPooling2D)   (None, None, None, 128)   0         \n",
      "_________________________________________________________________\n",
      "block3_conv1 (Conv2D)        (None, None, None, 256)   295168    \n",
      "_________________________________________________________________\n",
      "block3_conv2 (Conv2D)        (None, None, None, 256)   590080    \n",
      "_________________________________________________________________\n",
      "block3_conv3 (Conv2D)        (None, None, None, 256)   590080    \n",
      "_________________________________________________________________\n",
      "block3_pool (MaxPooling2D)   (None, None, None, 256)   0         \n",
      "_________________________________________________________________\n",
      "block4_conv1 (Conv2D)        (None, None, None, 512)   1180160   \n",
      "_________________________________________________________________\n",
      "block4_conv2 (Conv2D)        (None, None, None, 512)   2359808   \n",
      "_________________________________________________________________\n",
      "block4_conv3 (Conv2D)        (None, None, None, 512)   2359808   \n",
      "_________________________________________________________________\n",
      "block4_pool (MaxPooling2D)   (None, None, None, 512)   0         \n",
      "_________________________________________________________________\n",
      "block5_conv1 (Conv2D)        (None, None, None, 512)   2359808   \n",
      "_________________________________________________________________\n",
      "block5_conv2 (Conv2D)        (None, None, None, 512)   2359808   \n",
      "_________________________________________________________________\n",
      "block5_conv3 (Conv2D)        (None, None, None, 512)   2359808   \n",
      "_________________________________________________________________\n",
      "block5_pool (MaxPooling2D)   (None, None, None, 512)   0         \n",
      "_________________________________________________________________\n",
      "global_average_pooling2d_1 ( (None, 512)               0         \n",
      "_________________________________________________________________\n",
      "dropout_1 (Dropout)          (None, 512)               0         \n",
      "_________________________________________________________________\n",
      "dense_1 (Dense)              (None, 1024)              525312    \n",
      "_________________________________________________________________\n",
      "dropout_2 (Dropout)          (None, 1024)              0         \n",
      "_________________________________________________________________\n",
      "dense_2 (Dense)              (None, 512)               524800    \n",
      "_________________________________________________________________\n",
      "dropout_3 (Dropout)          (None, 512)               0         \n",
      "_________________________________________________________________\n",
      "dense_3 (Dense)              (None, 5)                 2565      \n",
      "=================================================================\n",
      "Total params: 15,767,365\n",
      "Trainable params: 5,772,293\n",
      "Non-trainable params: 9,995,072\n",
      "_________________________________________________________________\n"
     ]
    }
   ],
   "source": [
    "model.summary()"
   ]
  },
  {
   "cell_type": "code",
   "execution_count": 41,
   "metadata": {
    "colab": {
     "base_uri": "https://localhost:8080/",
     "height": 714
    },
    "colab_type": "code",
    "id": "a6Go7hzA2iRF",
    "outputId": "fc91b38f-95fe-437f-f473-2db974b3bac4"
   },
   "outputs": [
    {
     "name": "stdout",
     "output_type": "stream",
     "text": [
      "Train on 3283 samples, validate on 1408 samples\n",
      "Epoch 1/20\n",
      "3283/3283 [==============================] - 72s 22ms/step - loss: 1.0257 - acc: 0.6260 - val_loss: 0.7977 - val_acc: 0.7053\n",
      "Epoch 2/20\n",
      "3283/3283 [==============================] - 64s 19ms/step - loss: 0.7982 - acc: 0.7167 - val_loss: 0.7070 - val_acc: 0.7280\n",
      "Epoch 3/20\n",
      "3283/3283 [==============================] - 64s 19ms/step - loss: 0.6368 - acc: 0.7581 - val_loss: 0.5823 - val_acc: 0.7912\n",
      "Epoch 4/20\n",
      "3283/3283 [==============================] - 64s 19ms/step - loss: 0.5243 - acc: 0.7987 - val_loss: 0.6714 - val_acc: 0.7898\n",
      "Epoch 5/20\n",
      "3283/3283 [==============================] - 64s 19ms/step - loss: 0.4523 - acc: 0.8313 - val_loss: 0.5441 - val_acc: 0.8089\n",
      "Epoch 6/20\n",
      "3283/3283 [==============================] - 64s 19ms/step - loss: 0.3322 - acc: 0.8779 - val_loss: 0.6768 - val_acc: 0.8068\n",
      "Epoch 7/20\n",
      "3283/3283 [==============================] - 64s 19ms/step - loss: 0.2947 - acc: 0.8903 - val_loss: 0.6703 - val_acc: 0.8175\n",
      "Epoch 8/20\n",
      "3283/3283 [==============================] - 64s 19ms/step - loss: 0.2112 - acc: 0.9248 - val_loss: 0.5861 - val_acc: 0.8423\n",
      "Epoch 9/20\n",
      "3283/3283 [==============================] - 64s 19ms/step - loss: 0.1625 - acc: 0.9412 - val_loss: 0.6216 - val_acc: 0.8288\n",
      "Epoch 10/20\n",
      "3283/3283 [==============================] - 64s 19ms/step - loss: 0.1353 - acc: 0.9513 - val_loss: 1.4283 - val_acc: 0.7102\n",
      "Epoch 11/20\n",
      "3283/3283 [==============================] - 64s 19ms/step - loss: 0.1293 - acc: 0.9571 - val_loss: 0.7605 - val_acc: 0.8473\n",
      "Epoch 12/20\n",
      "3283/3283 [==============================] - 64s 19ms/step - loss: 0.1083 - acc: 0.9634 - val_loss: 0.6446 - val_acc: 0.8629\n",
      "Epoch 13/20\n",
      "3283/3283 [==============================] - 64s 19ms/step - loss: 0.0720 - acc: 0.9762 - val_loss: 0.7549 - val_acc: 0.8629\n",
      "Epoch 14/20\n",
      "3283/3283 [==============================] - 63s 19ms/step - loss: 0.0532 - acc: 0.9836 - val_loss: 0.7681 - val_acc: 0.8516\n",
      "Epoch 15/20\n",
      "3283/3283 [==============================] - 63s 19ms/step - loss: 0.0361 - acc: 0.9872 - val_loss: 1.1267 - val_acc: 0.8416\n",
      "Epoch 16/20\n",
      "3283/3283 [==============================] - 64s 19ms/step - loss: 0.0748 - acc: 0.9790 - val_loss: 0.8073 - val_acc: 0.8473\n",
      "Epoch 17/20\n",
      "3283/3283 [==============================] - 64s 19ms/step - loss: 0.0482 - acc: 0.9842 - val_loss: 1.0766 - val_acc: 0.8288\n",
      "Epoch 18/20\n",
      "3283/3283 [==============================] - 63s 19ms/step - loss: 0.0643 - acc: 0.9817 - val_loss: 0.9069 - val_acc: 0.8636\n",
      "Epoch 19/20\n",
      "3283/3283 [==============================] - 63s 19ms/step - loss: 0.0193 - acc: 0.9942 - val_loss: 0.9539 - val_acc: 0.8466\n",
      "Epoch 20/20\n",
      "3283/3283 [==============================] - 64s 19ms/step - loss: 0.0419 - acc: 0.9872 - val_loss: 0.8705 - val_acc: 0.8402\n"
     ]
    }
   ],
   "source": [
    "egitilmis_model_sonuclari = model.fit(X_train,y_train,batch_size=32,epochs=20,\n",
    "                                      validation_data=(X_test,y_test))"
   ]
  },
  {
   "cell_type": "code",
   "execution_count": 0,
   "metadata": {
    "colab": {},
    "colab_type": "code",
    "id": "ji998L2O2-Go"
   },
   "outputs": [],
   "source": [
    "model.save('VGG16_transfer_0.8402')"
   ]
  },
  {
   "cell_type": "markdown",
   "metadata": {
    "colab_type": "text",
    "id": "O4fDqfHYFGvQ"
   },
   "source": [
    "## Confusion Matrix'i Çiziyoruz"
   ]
  },
  {
   "cell_type": "code",
   "execution_count": 0,
   "metadata": {
    "colab": {},
    "colab_type": "code",
    "id": "tryBTT-Q57f4"
   },
   "outputs": [],
   "source": [
    "etiketler = ['bedroom', 'restaurant', 'bathroom', 'patio', 'building']"
   ]
  },
  {
   "cell_type": "code",
   "execution_count": 0,
   "metadata": {
    "colab": {},
    "colab_type": "code",
    "id": "JQTnzyfbFrBh"
   },
   "outputs": [],
   "source": [
    "def plot_confusion_matrix(cm, classes,\n",
    "                          title='Confusion matrix',\n",
    "                          cmap=plt.cm.Blues):\n",
    "    plt.imshow(cm, interpolation='nearest', cmap=cmap)\n",
    "    plt.title(title)\n",
    "    plt.colorbar()\n",
    "    tick_marks = np.arange(len(classes))\n",
    "    plt.xticks(tick_marks, classes, rotation=45)\n",
    "    plt.yticks(tick_marks, classes)\n",
    "\n",
    "    thresh = cm.max() / 2.\n",
    "    for i, j in itertools.product(range(cm.shape[0]), range(cm.shape[1])):\n",
    "        plt.text(j, i, cm[i, j],\n",
    "                 horizontalalignment=\"center\",\n",
    "                 color=\"white\" if cm[i, j] > thresh else \"black\")\n",
    "\n",
    "    plt.tight_layout()\n",
    "    plt.ylabel('Gercek Deger')\n",
    "    plt.xlabel('Tahmini Deger')"
   ]
  },
  {
   "cell_type": "code",
   "execution_count": 45,
   "metadata": {
    "colab": {
     "base_uri": "https://localhost:8080/",
     "height": 415
    },
    "colab_type": "code",
    "id": "MIYgWd8MFrZ8",
    "outputId": "ee0445c9-d045-4fc5-a9b4-655d71e5c5d0"
   },
   "outputs": [
    {
     "data": {
      "image/png": "[encoded data removed]",
      "text/plain": [
       "<matplotlib.figure.Figure at 0x7ffb84e75da0>"
      ]
     },
     "metadata": {
      "tags": []
     },
     "output_type": "display_data"
    }
   ],
   "source": [
    "# Predict the values from the validation dataset\n",
    "Y_pred = model.predict(X_test)\n",
    "# Convert predictions classes to one hot vectors \n",
    "Y_pred_classes = np.argmax(Y_pred,axis = 1) \n",
    "# Convert validation observations to one hot vectors\n",
    "Y_true = np.argmax(y_test,axis = 1) \n",
    "# compute the confusion matrix\n",
    "confusion_mtx = confusion_matrix(Y_true, Y_pred_classes) \n",
    "# plot the confusion matrix\n",
    "plot_confusion_matrix(confusion_mtx, etiketler)"
   ]
  },
  {
   "cell_type": "markdown",
   "metadata": {
    "colab_type": "text",
    "id": "3mjG1KreGqWO"
   },
   "source": [
    "## Egitim Seti Harici Verilerle Test"
   ]
  },
  {
   "cell_type": "code",
   "execution_count": 0,
   "metadata": {
    "colab": {},
    "colab_type": "code",
    "id": "rdzSFfF5JfRP"
   },
   "outputs": [],
   "source": [
    "from keras.preprocessing.image import img_to_array, load_img"
   ]
  },
  {
   "cell_type": "code",
   "execution_count": 0,
   "metadata": {
    "colab": {},
    "colab_type": "code",
    "id": "KuHdKm3NFrXF"
   },
   "outputs": [],
   "source": [
    "def tahminEt(img):\n",
    "  img = img_to_array(img)\n",
    "  # keras modeline 4 boyutlu matris kabul ediyor\n",
    "  img = np.reshape(img,(-1,224,224,3))\n",
    "  img = img/255.0\n",
    "  sonuc = model.predict(img)\n",
    "  sonuc = etiketler[np.argmax(sonuc)]\n",
    "  return sonuc"
   ]
  },
  {
   "cell_type": "code",
   "execution_count": 0,
   "metadata": {
    "colab": {},
    "colab_type": "code",
    "id": "pJUKyrXXH6og"
   },
   "outputs": [],
   "source": [
    "def goruntule(img):\n",
    "  plt.imshow(img)\n",
    "  plt.axis('off')"
   ]
  },
  {
   "cell_type": "code",
   "execution_count": 50,
   "metadata": {
    "colab": {
     "base_uri": "https://localhost:8080/",
     "height": 68
    },
    "colab_type": "code",
    "id": "RastPWgdOFv8",
    "outputId": "08e390df-738b-4d7b-9c27-02d58c465c9f"
   },
   "outputs": [
    {
     "name": "stdout",
     "output_type": "stream",
     "text": [
      "10.jpg\t13.jpg\t16.jpg\t19.jpg\t21.jpg\t3.jpg  6.jpg  9.jpg\n",
      "11.jpg\t14.jpg\t17.jpg\t1.jpg\t22.jpg\t4.jpg  7.jpg\n",
      "12.jpg\t15.jpg\t18.jpg\t20.jpg\t2.jpg\t5.jpg  8.jpg\n"
     ]
    }
   ],
   "source": [
    "!ls Test_Verileri"
   ]
  },
  {
   "cell_type": "code",
   "execution_count": 0,
   "metadata": {
    "colab": {},
    "colab_type": "code",
    "id": "_T-NzZi4JQby"
   },
   "outputs": [],
   "source": [
    "isim = 3\n",
    "resim = load_img('Test_Verileri/'+str(isim)+'.jpg',target_size=(224,224))"
   ]
  },
  {
   "cell_type": "code",
   "execution_count": 61,
   "metadata": {
    "colab": {
     "base_uri": "https://localhost:8080/",
     "height": 350
    },
    "colab_type": "code",
    "id": "tF5-WgOBJT38",
    "outputId": "d46f5c25-b1ec-49b5-8b09-fc059a81b4ba"
   },
   "outputs": [
    {
     "data": {
      "image/png": "[encoded data removed]",
      "text/plain": [
       "<matplotlib.figure.Figure at 0x7ffb84f299b0>"
      ]
     },
     "metadata": {
      "tags": []
     },
     "output_type": "display_data"
    }
   ],
   "source": [
    "goruntule(resim)"
   ]
  },
  {
   "cell_type": "code",
   "execution_count": 62,
   "metadata": {
    "colab": {
     "base_uri": "https://localhost:8080/",
     "height": 34
    },
    "colab_type": "code",
    "id": "X28VOIiZHQ-a",
    "outputId": "8257b1f9-df99-44a2-fe8d-bc2be9a8165b"
   },
   "outputs": [
    {
     "data": {
      "text/plain": [
       "'restaurant'"
      ]
     },
     "execution_count": 62,
     "metadata": {
      "tags": []
     },
     "output_type": "execute_result"
    }
   ],
   "source": [
    "tahminEt(resim)"
   ]
  },
  {
   "cell_type": "code",
   "execution_count": 0,
   "metadata": {
    "colab": {},
    "colab_type": "code",
    "id": "_pkrLsOIHmGq"
   },
   "outputs": [],
   "source": []
  }
 ],
 "metadata": {
  "accelerator": "GPU",
  "colab": {
   "name": "modeli_olusturma.ipynb",
   "provenance": [],
   "version": "0.3.2"
  },
  "kernelspec": {
   "display_name": "Python 3",
   "language": "python",
   "name": "python3"
  },
  "language_info": {
   "codemirror_mode": {
    "name": "ipython",
    "version": 3
   },
   "file_extension": ".py",
   "mimetype": "text/x-python",
   "name": "python",
   "nbconvert_exporter": "python",
   "pygments_lexer": "ipython3",
   "version": "3.6.7"
  }
 },
 "nbformat": 4,
 "nbformat_minor": 1
}
